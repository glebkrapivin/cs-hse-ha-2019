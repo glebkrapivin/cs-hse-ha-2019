{
 "cells": [
  {
   "cell_type": "markdown",
   "metadata": {},
   "source": [
    "### Сторонние библиотеки использовать нельзя"
   ]
  },
  {
   "cell_type": "markdown",
   "metadata": {},
   "source": [
    "### Задача 0 [Библиотека] (0.15 балла)  \n",
    "\n",
    "**Условие:** \n",
    "\n",
    "\n",
    "В библиотеке хранятся книги и журналы. У каждой сущности есть общие характеристики, такие как: название, автор, жанр, число страниц, формат страниц, индекс редкости (от 1 до 10) и текст. Также у разных сущностей могут быть свои атрибуты. Хочется все редкие издания (индекс 9 или 10) дополнительно сохранять в некое хранилище (пусть json-файл), а также хочется понимать какую площадь занимает издание, если разложить все его страницы на полу.     \n",
    "\n",
    "\n",
    "**Комментарий:**\n",
    "\n",
    "Это задача с семинара на организацию иерархии классов. Идея в том, что нужно разделять сущности в зависимости от их применения. Например, есть книга как некий абстрактный объект, а есть библиотечная книга, у которой есть свои особенности. Также для сохранения книг в json нужно использвать классы-примеси.\n",
    "\n",
    "\n",
    "Иерархия классов:"
   ]
  },
  {
   "cell_type": "code",
   "execution_count": 74,
   "metadata": {},
   "outputs": [],
   "source": [
    "PAGES_FORMAT = {\n",
    "    'A1': (2048, 1024),\n",
    "    'A2': (1024, 512),\n",
    "    'A3': (512, 256),\n",
    "    'A4': (297, 210),\n",
    "}\n",
    "\n",
    "\n",
    "class ReadableEntity:\n",
    "    pass\n",
    "\n",
    "\n",
    "class Journal(ReadableEntity):\n",
    "    pass\n",
    "\n",
    "\n",
    "class Book(ReadableEntity):\n",
    "    pass\n",
    "\n",
    "\n",
    "class Exporter:\n",
    "    \n",
    "    def export_to_txt(self, file_path):\n",
    "        with open(file_path, 'w') as f:\n",
    "            for key in self.__dict__:\n",
    "                f.write(\"{}: {}\".format(key, self.__dict__[key]))\n",
    "     \n",
    "    \n",
    "class LibraryJournal(Journal, Exporter):\n",
    "    pass\n",
    "\n",
    "\n",
    "class LibraryBook(Book, Exporter):\n",
    "    pass"
   ]
  },
  {
   "cell_type": "markdown",
   "metadata": {},
   "source": [
    "### Задача 1 [Размер объектов] (0 - 0.15 балла)  \n",
    "\n",
    "**Условие:** \n",
    "\n",
    "Написать функцию получения реального объема занимаемой объектом памяти объектом. \n",
    "\n",
    "\n",
    "1) Для int, str, list, tuple, dict **(0.05 балла)**\n",
    "\n",
    "2) Для всех типов **(+0.1 балла)**\n",
    "\n",
    "\n",
    "**Комментарий:**\n",
    "\n",
    "На занятиях не раз говорилось, что `sys.getsizeof` умеет находить размер простых объектов, но если речь идет об объектах, вроде list, то функция вернет не совсем то, что может ожидать разработчик, потому что список хранит указатели на объекты. \n",
    "\n",
    "*Пример:*\n",
    "```\n",
    "sys.getsizeof([]) == 64\n",
    "sys.getsizeof(['aaaaaaa']) == 72\n",
    "```\n",
    "Но\n",
    "```\n",
    "sys.getsizeof('aaaaaaa') == 56\n",
    "```\n"
   ]
  },
  {
   "cell_type": "code",
   "execution_count": 156,
   "metadata": {
    "ExecuteTime": {
     "end_time": "2019-10-20T20:01:08.420066Z",
     "start_time": "2019-10-20T20:01:08.410668Z"
    }
   },
   "outputs": [],
   "source": [
    "# def get_real_size_of(obj):\n",
    "    \n",
    "#     obj_ids = set()\n",
    "#     size = sys.getsizeof(obj)\n",
    "    \n",
    "#     if type(obj) in (str, float, int):\n",
    "#         return size\n",
    "    \n",
    "#     if type(obj) in (list, tuple):\n",
    "        \n",
    "#         for item in obj: \n",
    "#             item_id = id(item)\n",
    "#             if item_id not in obj_ids:\n",
    "#                 obj_ids.add(item_id)\n",
    "#                 size += sys.getsizeof(item)\n",
    "#         return size\n",
    "    \n",
    "#     if type(obj) == (dict):\n",
    "        \n",
    "#         for k, v in obj.items():\n",
    "            \n",
    "#             key_id = id(k)\n",
    "#             v_id = id(v)\n",
    "#             for _ in [key_id, v_id]:\n",
    "#                 if _ not in obj_ids:\n",
    "#                     obj_ids.add(_)\n",
    "#                     size+= sys.getsizeof(_)\n",
    "#         return size\n",
    "\n",
    "def get_size_of(obj, obj_ids):\n",
    "    \n",
    "    size = sys.getsizeof(obj)\n",
    "    \n",
    "    if id(obj) in obj_ids:\n",
    "        return 0\n",
    "    obj_ids.add(id(obj))\n",
    "    \n",
    "    if type(obj) in (str, float, int):\n",
    "        return size\n",
    "    \n",
    "    if type(obj) in (list, tuple):\n",
    "        for item in obj: \n",
    "            item_id = id(item)\n",
    "            if item_id not in obj_ids:\n",
    "                obj_ids.add(item_id)\n",
    "                size += get_real_size_of(item)\n",
    "        return size\n",
    "    \n",
    "    if type(obj) == (dict):\n",
    "        for k, v in obj.items():\n",
    "            key_id = id(k)\n",
    "            v_id = id(v)\n",
    "            for _ in [key_id, v_id]:\n",
    "                if _ not in obj_ids:\n",
    "                    obj_ids.add(_)\n",
    "                    size += get_real_size_of(_)\n",
    "        return size\n",
    "\n",
    "def get_real_size_of(obj):\n",
    "    \n",
    "    obj_ids = set()\n",
    "    \n",
    "    return get_size_of(obj, obj_ids)\n",
    "\n"
   ]
  },
  {
   "cell_type": "code",
   "execution_count": 157,
   "metadata": {
    "ExecuteTime": {
     "end_time": "2019-10-20T20:01:08.695410Z",
     "start_time": "2019-10-20T20:01:08.692159Z"
    }
   },
   "outputs": [],
   "source": [
    "assert get_real_size_of('aa') + get_real_size_of([]) + 8 == get_real_size_of(['aa'])"
   ]
  },
  {
   "cell_type": "markdown",
   "metadata": {},
   "source": [
    "### Задача 2 [Многочлены] (0.64 балла)\n",
    "\n",
    "**Условие:**\n",
    "\n",
    "Реализовать класс многочлена. Определить операции:\n",
    "\n",
    "1) *сложения* - **(0.02 балла)**\n",
    "\n",
    "2) *вычитания* - **(0.02 балла)** \n",
    "\n",
    "3) *умножения* - **(0.04 балла)**\n",
    "\n",
    "3a) *быстрого умножения* (алгоритм Карацубы или быстрое преобразование Фурье) - **(+0.25 балла)**\n",
    "\n",
    "4) *деления* - **(0.05 балла)** \n",
    "\n",
    "5) *возведения в степень* - **(0.02 балла)** \n",
    "\n",
    "6) *представления многочлена в человеческом виде* - **(0.02 балла)**\n",
    "\n",
    "7) *дифференцирования* - **(0.05 балла)**\n",
    "\n",
    "8) *интегрирования* - **(0.05 балла)**\n",
    "\n",
    "9) Вызова многочлена как функции (вычисление значения в точке) - **(0.03 балла)**\n",
    "\n",
    "\n",
    "Операции с числами также должны работать."
   ]
  },
  {
   "cell_type": "code",
   "execution_count": 97,
   "metadata": {
    "ExecuteTime": {
     "end_time": "2019-10-20T18:59:14.247641Z",
     "start_time": "2019-10-20T18:59:14.242739Z"
    }
   },
   "outputs": [
    {
     "data": {
      "text/plain": [
       "0.29999999999999993"
      ]
     },
     "execution_count": 97,
     "metadata": {},
     "output_type": "execute_result"
    }
   ],
   "source": [
    "0.02+0.02+0.04+0.05+0.02+0.02+0.05+0.05+0.03"
   ]
  },
  {
   "cell_type": "code",
   "execution_count": 1,
   "metadata": {
    "ExecuteTime": {
     "end_time": "2019-10-17T13:32:08.277928Z",
     "start_time": "2019-10-17T13:32:08.273715Z"
    }
   },
   "outputs": [],
   "source": [
    "#https://stackoverflow.com/questions/5125619/why-doesnt-list-have-safe-get-method-like-dictionary\n",
    "\n",
    "class safelist(list):\n",
    "    def get(self, index, default=None):\n",
    "        try:\n",
    "            return self.__getitem__(index)\n",
    "        except IndexError:\n",
    "            return default"
   ]
  },
  {
   "cell_type": "code",
   "execution_count": 419,
   "metadata": {
    "ExecuteTime": {
     "end_time": "2019-10-20T18:29:48.803843Z",
     "start_time": "2019-10-20T18:29:48.688131Z"
    }
   },
   "outputs": [],
   "source": [
    "class Polynomial:\n",
    "    def __init__(self, *coefs):\n",
    "        \"\"\"\n",
    "        Coefs starting from a0 + a1 * x + a2 * x^2 .... \n",
    "        \"\"\"\n",
    "        self.last_non_zero_coef = self.find_last_non_zero_coef(coefs)\n",
    "        self.coefs = safelist([float(coef) for coef in coefs[:max(self.last_non_zero_coef+1, 1)]])\n",
    "        self.length = len(self.coefs)\n",
    "    \n",
    "    @staticmethod\n",
    "    def find_last_non_zero_coef(ls):\n",
    "        for i in range(len(ls)-1, -1, -1):\n",
    "            if ls[i] != 0:\n",
    "                return i \n",
    "        return -1 \n",
    "    \n",
    "    def linear_operations(self, other, method):\n",
    "        if type(other) in (int, float):\n",
    "            other = Polynomial(other)\n",
    "            \n",
    "        resulting_coefs = []\n",
    "        max_len = max(len(self.coefs), len(other.coefs))\n",
    "        for i in range(max_len):\n",
    "            result = method(self.coefs.get(i, 0.0), other.coefs.get(i, 0.0))\n",
    "            resulting_coefs.append(result)\n",
    "        return resulting_coefs\n",
    "    \n",
    "    def __add__(self, other):  \n",
    "        return Polynomial(*self.linear_operations(other, float.__add__))\n",
    "        \n",
    "    def __sub__(self, other):\n",
    "        return Polynomial(*self.linear_operations(other, float.__sub__))\n",
    "        \n",
    "    def __mul__(self, other):\n",
    "        if type(other) in (int, float):\n",
    "            other = Polynomial(other)\n",
    "\n",
    "        resulting_coefs = [0] * (self.length + other.length)        \n",
    "        if (self.last_non_zero_coef != -1) and (other.last_non_zero_coef != -1):\n",
    "            for i in range(self.length):\n",
    "                for j in range(other.length):\n",
    "                    resulting_coefs[i+j] += self.coefs[i] * other.coefs[j]\n",
    "                \n",
    "        return Polynomial(*resulting_coefs)\n",
    "    \n",
    "    def __pow__(self, power):\n",
    "        if power == 1:\n",
    "            return self \n",
    "        if power == 0: \n",
    "            return Polynomial(0)\n",
    "        \n",
    "        temp_polynomial = self\n",
    "        for i in range(2, power+1): \n",
    "            temp_polynomial *= self\n",
    "            \n",
    "        return temp_polynomial\n",
    "    \n",
    "    def __call__(self, point):\n",
    "        if type(point) not in [int, float]:\n",
    "            raise TypeError('Input should be float or int')\n",
    "        \n",
    "        return sum([coef * (point ** i) for i, coef in enumerate(self.coefs)])\n",
    "\n",
    "    def derivative(self, order = 1):\n",
    "        if order == 0:\n",
    "            return self\n",
    "        if self.length == 1: \n",
    "            return Polynomial(0)\n",
    "        \n",
    "        resulting_coefs = [0] * (self.length - 1)\n",
    "        for i in range(1,self.length): \n",
    "            resulting_coefs[i-1] = self.coefs[i] * i\n",
    "            \n",
    "        return Polynomial(*resulting_coefs).derivative(order -1)\n",
    "    \n",
    "    def integral(self):\n",
    "        \n",
    "        resulting_coefs = [0] * (self.length + 1)\n",
    "        \n",
    "        for i in range(0, self.length):\n",
    "            resulting_coefs[i+1] = self.coefs[i] / (i + 1)\n",
    "        \n",
    "        return Polynomial(*resulting_coefs)\n",
    "    \n",
    "    def __truediv__(self, other): \n",
    "        if type(other) in (float, int):\n",
    "            other = Polynomial(other)\n",
    "            \n",
    "        temp_poly = self\n",
    "        result_poly, remainder_poly  = Polynomial(0), Polynomial(0)\n",
    "        \n",
    "        num_largest_coef = len(temp_poly.coefs)\n",
    "        denom_largest_coef = len(other.coefs)\n",
    "        \n",
    "        if num_largest_coef == denom_largest_coef == 1:\n",
    "            return (Polynomial(temp_poly.coefs[0] / other.coefs[0]), remainder_poly)\n",
    "        \n",
    "        while num_largest_coef >= denom_largest_coef:\n",
    "            \n",
    "            temp_resulting_coefs = [0] * (num_largest_coef - denom_largest_coef + 1) \n",
    "            temp_resulting_coefs[-1] = temp_poly.coefs[-1] / other.coefs[-1]\n",
    "            \n",
    "            div_poly = Polynomial(*temp_resulting_coefs)\n",
    "            temp_poly = temp_poly - (div_poly * other)\n",
    "            result_poly = result_poly + div_poly\n",
    "            \n",
    "            num_largest_coef = len(temp_poly.coefs)\n",
    "            denom_largest_coef = len(other.coefs)\n",
    "            \n",
    "        remainder_poly = self - (result_poly * other)\n",
    "        \n",
    "        return result_poly, remainder_poly\n",
    "        \n",
    "    def __str__(self):\n",
    "        \n",
    "        result_string = \"\"\n",
    "        for i in range(len(self.coefs)):\n",
    "            \n",
    "            leading_spaces = 1 if i > 0 else 0 \n",
    "            \n",
    "            if self.coefs[i] >= 0:\n",
    "                prefix = ' '  * leading_spaces + '+ '* leading_spaces\n",
    "            else:\n",
    "                prefix = ' ' * leading_spaces  + '- '\n",
    "                \n",
    "            result_string += f\"{prefix}{abs(self.coefs[i])}*x^{i}\"\n",
    "            \n",
    "        return result_string"
   ]
  },
  {
   "cell_type": "code",
   "execution_count": 430,
   "metadata": {
    "ExecuteTime": {
     "end_time": "2019-10-20T18:37:09.811613Z",
     "start_time": "2019-10-20T18:37:09.805662Z"
    }
   },
   "outputs": [],
   "source": [
    "poly1  = Polynomial(1,1)\n",
    "poly2 = Polynomial(5,9, 99)\n",
    "\n",
    "# Check if add and subtr return the same results\n",
    "poly_sum = poly1 + poly2\n",
    "assert (poly2).coefs == (poly_sum - poly1).coefs\n",
    "\n",
    "# Check if integral returns same after derivativee\n",
    "assert poly1.coefs == poly1.integral().derivative().coefs\n",
    "\n",
    "# Check if division is correct\n",
    "div, rem =  poly1 / poly2\n",
    "assert poly1.coefs ==  (poly2 * div + rem).coefs\n",
    "\n",
    "# check value at point\n",
    "assert poly1(0) == poly1.coefs[0]"
   ]
  },
  {
   "cell_type": "markdown",
   "metadata": {},
   "source": [
    "### Задача 3 [Аналог range] (0.05 балла)\n",
    "\n",
    "**Условие:**\n",
    "\n",
    "Реализуйте итератор с поведением, аналогичным range."
   ]
  },
  {
   "cell_type": "code",
   "execution_count": 4,
   "metadata": {
    "ExecuteTime": {
     "end_time": "2019-10-20T18:54:30.477052Z",
     "start_time": "2019-10-20T18:54:30.468206Z"
    }
   },
   "outputs": [],
   "source": [
    "class custom_range_iter:\n",
    "    def __init__(self, *args):\n",
    "        \n",
    "        if len(args) == 1:\n",
    "            self.start, self.stop, self.step = 0, args[0], 1\n",
    "        elif len(args) == 2: \n",
    "            self.start, self.stop, self.step = *args, 1\n",
    "        else:\n",
    "            self.start, self.stop, self.step = args\n",
    "        \n",
    "        if self.step != 0:\n",
    "            self.current = self.start - self.step\n",
    "        else:\n",
    "            raise ValueError('step should not be zero')\n",
    "            \n",
    "    def __iter__(self):\n",
    "        return self\n",
    "    \n",
    "    def __next__(self): \n",
    "    \n",
    "        self.next = self.current + self.step\n",
    "        if ((self.step > 0 and (self.next < self.stop) and (self.next >= self.start))\n",
    "           or (self.step <0 and (self.next > self.stop) and (self.next <= self.start))):\n",
    "            self.current = self.next\n",
    "            return self.next\n",
    "        else:\n",
    "            raise StopIteration\n",
    "            "
   ]
  },
  {
   "cell_type": "code",
   "execution_count": 94,
   "metadata": {
    "ExecuteTime": {
     "end_time": "2019-10-20T18:56:58.767897Z",
     "start_time": "2019-10-20T18:56:50.471997Z"
    }
   },
   "outputs": [],
   "source": [
    "from random import randint\n",
    "\n",
    "N_ATTEMPTS = 1e6\n",
    "\n",
    "def get_points():\n",
    "    start, stop, step = randint(-100, 100), randint(-100, 100), randint(-100, 100) // randint(1,5)\n",
    "    \n",
    "    if step == 0:\n",
    "        \n",
    "        return get_points()\n",
    "    return start, stop, step \n",
    "\n",
    "for _ in range(int(N_ATTEMPTS)):\n",
    "    start, stop, step = get_points()\n",
    "    assert list(custom_range_iter(start, stop, step)) == list(range(start, stop, step))"
   ]
  },
  {
   "cell_type": "markdown",
   "metadata": {},
   "source": [
    "### Задача 4 [Primary Key] (0.05 балла)\n",
    "\n",
    "**Условие:**\n",
    "\n",
    "С помощью механизма дескрипторов реализуйте Primary Key - свойства первичного ключа из PostgreSQL."
   ]
  },
  {
   "cell_type": "markdown",
   "metadata": {},
   "source": [
    "### Задача 5 [PositiveSmallIntegerField] (0.03 балла)\n",
    "\n",
    "**Условие:**\n",
    "\n",
    "С помощью механизма дескрипторов реализуйте тип данных PositiveSmallIntegerField - поле, принимающее значения от 0 до 32767."
   ]
  },
  {
   "cell_type": "code",
   "execution_count": 306,
   "metadata": {
    "ExecuteTime": {
     "end_time": "2019-10-19T11:37:31.275492Z",
     "start_time": "2019-10-19T11:37:31.270635Z"
    }
   },
   "outputs": [],
   "source": [
    "class PositiveSmallIntegerField:\n",
    "    def __init__(self):\n",
    "        self.val = None\n",
    "    \n",
    "    def __get__(self):\n",
    "        return self.val\n",
    "    \n",
    "    def __set__(self, val):\n",
    "        if \n",
    "        "
   ]
  },
  {
   "cell_type": "code",
   "execution_count": 307,
   "metadata": {
    "ExecuteTime": {
     "end_time": "2019-10-19T11:37:31.660686Z",
     "start_time": "2019-10-19T11:37:31.658639Z"
    }
   },
   "outputs": [],
   "source": [
    "x = PositiveSmallIntegerField()"
   ]
  },
  {
   "cell_type": "code",
   "execution_count": 309,
   "metadata": {
    "ExecuteTime": {
     "end_time": "2019-10-19T11:37:42.476063Z",
     "start_time": "2019-10-19T11:37:42.469411Z"
    }
   },
   "outputs": [
    {
     "data": {
      "text/plain": [
       "-1"
      ]
     },
     "execution_count": 309,
     "metadata": {},
     "output_type": "execute_result"
    }
   ],
   "source": [
    "x.val"
   ]
  },
  {
   "cell_type": "code",
   "execution_count": 308,
   "metadata": {
    "ExecuteTime": {
     "end_time": "2019-10-19T11:37:32.328120Z",
     "start_time": "2019-10-19T11:37:32.325705Z"
    }
   },
   "outputs": [],
   "source": [
    "x.val = -1"
   ]
  },
  {
   "cell_type": "markdown",
   "metadata": {},
   "source": [
    "### Задача 6 [Timer] (0.02 балла)\n",
    "\n",
    "**Условие:**\n",
    "\n",
    "Реализовать контекстный менеджер, который выводит время, проведенное в нём."
   ]
  },
  {
   "cell_type": "code",
   "execution_count": 95,
   "metadata": {
    "ExecuteTime": {
     "end_time": "2019-10-20T18:57:15.463229Z",
     "start_time": "2019-10-20T18:57:15.458427Z"
    }
   },
   "outputs": [],
   "source": [
    "import time\n",
    "\n",
    "class TimeContextManager:\n",
    "    def __init__(self):\n",
    "        self.time_entered = None\n",
    "    def __enter__(self):\n",
    "        self.time_entered = time.time()\n",
    "    def __exit__(self, type, value, traceback):\n",
    "        print(f'Spent  {round(time.time() - self.time_entered, 10)} seconds in the context manager')"
   ]
  },
  {
   "cell_type": "code",
   "execution_count": 96,
   "metadata": {
    "ExecuteTime": {
     "end_time": "2019-10-20T18:57:20.973358Z",
     "start_time": "2019-10-20T18:57:15.963268Z"
    }
   },
   "outputs": [
    {
     "name": "stdout",
     "output_type": "stream",
     "text": [
      "Spent  5.0050239563 seconds in the context manager\n"
     ]
    }
   ],
   "source": [
    "with TimeContextManager():\n",
    "    time.sleep(5)"
   ]
  }
 ],
 "metadata": {
  "kernelspec": {
   "display_name": "Python 3",
   "language": "python",
   "name": "python3"
  },
  "language_info": {
   "codemirror_mode": {
    "name": "ipython",
    "version": 3
   },
   "file_extension": ".py",
   "mimetype": "text/x-python",
   "name": "python",
   "nbconvert_exporter": "python",
   "pygments_lexer": "ipython3",
   "version": "3.7.1"
  },
  "toc": {
   "base_numbering": 1,
   "nav_menu": {},
   "number_sections": true,
   "sideBar": true,
   "skip_h1_title": false,
   "title_cell": "Table of Contents",
   "title_sidebar": "Contents",
   "toc_cell": false,
   "toc_position": {},
   "toc_section_display": true,
   "toc_window_display": false
  }
 },
 "nbformat": 4,
 "nbformat_minor": 2
}
