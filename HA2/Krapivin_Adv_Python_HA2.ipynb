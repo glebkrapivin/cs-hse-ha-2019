{
 "cells": [
  {
   "cell_type": "markdown",
   "metadata": {},
   "source": [
    "### Сторонние библиотеки использовать нельзя"
   ]
  },
  {
   "cell_type": "markdown",
   "metadata": {},
   "source": [
    "### Задача 0 [Библиотека] (0.15 балла)  \n",
    "\n",
    "**Условие:** \n",
    "\n",
    "\n",
    "В библиотеке хранятся книги и журналы. У каждой сущности есть общие характеристики, такие как: название, автор, жанр, число страниц, формат страниц, индекс редкости (от 1 до 10) и текст. Также у разных сущностей могут быть свои атрибуты. Хочется все редкие издания (индекс 9 или 10) дополнительно сохранять в некое хранилище (пусть json-файл), а также хочется понимать какую площадь занимает издание, если разложить все его страницы на полу.     \n",
    "\n",
    "\n",
    "**Комментарий:**\n",
    "\n",
    "Это задача с семинара на организацию иерархии классов. Идея в том, что нужно разделять сущности в зависимости от их применения. Например, есть книга как некий абстрактный объект, а есть библиотечная книга, у которой есть свои особенности. Также для сохранения книг в json нужно использвать классы-примеси.\n",
    "\n",
    "\n",
    "Иерархия классов:"
   ]
  },
  {
   "cell_type": "code",
   "execution_count": 379,
   "metadata": {
    "ExecuteTime": {
     "end_time": "2019-10-21T12:16:19.479872Z",
     "start_time": "2019-10-21T12:16:19.458964Z"
    }
   },
   "outputs": [],
   "source": [
    "\n",
    "class ReadableEntity:\n",
    "    \n",
    "    PAGES_FORMAT = {\n",
    "    'A1': (2048, 1024),\n",
    "    'A2': (1024, 512),\n",
    "    'A3': (512, 256),\n",
    "    'A4': (297, 210),\n",
    "    }\n",
    "    \n",
    "    def __init__(self, name, author, genre, n_pages, page_format, rare_index, text):\n",
    "        \n",
    "        self.name = name\n",
    "        self.author = author\n",
    "        self.genre = genre\n",
    "        self.n_pages = n_pages\n",
    "        self.page_format = page_format\n",
    "        self.rare_index = rare_index\n",
    "        self.text = text\n",
    "    \n",
    "    @property\n",
    "    def square_area_mm(self):\n",
    "        page_dims = ReadableEntity.PAGES_FORMAT[self.page_format]\n",
    "        return self.n_pages * page_dims[0] * page_dims[1]\n",
    "    \n",
    "    @property\n",
    "    def page_format(self):\n",
    "        return self._page_format\n",
    "    \n",
    "    @page_format.setter\n",
    "    def page_format(self, value):\n",
    "        if ReadableEntity.PAGES_FORMAT.get(value) is None:\n",
    "            raise ValueError('Page format not recognizeed')\n",
    "        else:\n",
    "            self._page_format = value\n",
    "    \n",
    "    @property\n",
    "    def n_pages(self):\n",
    "        return self._n_pages\n",
    "    \n",
    "    @n_pages.setter\n",
    "    def n_pages(self, value):\n",
    "        if isinstance(value, int):\n",
    "            self._n_pages = value\n",
    "        else:\n",
    "            raise ValueError('N pages should be integer')\n",
    "    \n",
    "    @property\n",
    "    def rare_index(self):\n",
    "        return self._rare_index\n",
    "    \n",
    "    @rare_index.setter\n",
    "    def rare_index(self, value):\n",
    "        if isinstance(value, int):\n",
    "            if 1 <= value <= 10:\n",
    "                self._rare_index = value\n",
    "            else:\n",
    "                raise ValueError('Rare index should be in the range from 1 to 10')\n",
    "        else:\n",
    "            raise ValueError('Rare Index should be integer')\n",
    "        \n",
    "        \n",
    "class Journal(ReadableEntity):\n",
    "    \n",
    "    def __init__(self, name, author, genre, n_pages, page_format, rare_index, text):\n",
    "        super().__init__(name, author, genre, n_pages, page_format, rare_index, text)\n",
    "        # here we could've defined other Journal properties as well\n",
    "\n",
    "class Book(ReadableEntity):\n",
    "    \n",
    "    def __init__(self, name, author, genre, n_pages, page_format, rare_index, text):\n",
    "        super().__init__(name, author, genre, n_pages, page_format, rare_index, text)\n",
    "        # here we could've defined other Book properties as well\n",
    "\n",
    "class Exporter:\n",
    "    \n",
    "    def write_or_print(self, method):\n",
    "        method(\"{\")\n",
    "        for key in self.__dict__:\n",
    "            method('\\\"{}\\\": \\\"{}\\\",'.format(key.lstrip('_'), self.__dict__[key]))\n",
    "        method(\"}\")\n",
    "    def export_to_txt(self, file_path, is_write_to_sreen = False):\n",
    "        if is_write_to_sreen == True:\n",
    "            self.write_or_print(print)\n",
    "        else:\n",
    "            with open(file_path, 'a') as f:\n",
    "                self.write_or_print(f.write)\n",
    "\n",
    "    \n",
    "class LibraryJournal(Journal, Exporter):\n",
    "    \n",
    "    RARE_ENTITIES = (9, 10)\n",
    "    FILE_PATH = './data/'\n",
    "    IS_WRITE_TO_SCREEN = True\n",
    "    \n",
    "    def __init__(self, name, author, genre, n_pages, page_format, rare_index, text):\n",
    "    \n",
    "        super().__init__(name, author, genre, n_pages, page_format, rare_index, text)\n",
    "        if self.rare_index in self.RARE_ENTITIES:\n",
    "            self.export_to_txt(self.FILE_PATH, self.IS_WRITE_TO_SCREEN)\n",
    "    \n",
    "\n",
    "class LibraryBook(Book, Exporter):\n",
    "    \n",
    "    RARE_ENTITIES = (9, 10)\n",
    "    FILE_PATH = './data'\n",
    "    IS_WRITE_TO_SCREEN = True\n",
    "    \n",
    "    def __init__(self, name, author, genre, n_pages, page_format, rare_index, text):\n",
    "    \n",
    "        super().__init__(name, author, genre, n_pages, page_format, rare_index, text)\n",
    "        if self.rare_index in self.RARE_ENTITIES:\n",
    "            self.export_to_txt(self.FILE_PATH, self.IS_WRITE_TO_SCREEN)"
   ]
  },
  {
   "cell_type": "code",
   "execution_count": 384,
   "metadata": {
    "ExecuteTime": {
     "end_time": "2019-10-21T12:16:31.893745Z",
     "start_time": "2019-10-21T12:16:31.887581Z"
    }
   },
   "outputs": [
    {
     "name": "stdout",
     "output_type": "stream",
     "text": [
      "{\n",
      "\"name\": \"harry potter\",\n",
      "\"author\": \"rowling\",\n",
      "\"genre\": \"fiction\",\n",
      "\"n_pages\": \"1111\",\n",
      "\"page_format\": \"A4\",\n",
      "\"rare_index\": \"9\",\n",
      "\"text\": \"Once upon a time...\",\n",
      "}\n"
     ]
    }
   ],
   "source": [
    "book = LibraryBook('harry potter', 'rowling', 'fiction', 1111, 'A4', 9, 'Once upon a time...')"
   ]
  },
  {
   "cell_type": "code",
   "execution_count": 388,
   "metadata": {
    "ExecuteTime": {
     "end_time": "2019-10-21T12:19:24.662901Z",
     "start_time": "2019-10-21T12:19:24.660245Z"
    }
   },
   "outputs": [],
   "source": [
    "book = LibraryBook('harry potter', 'rowling', 'fiction', 1111, 'A4', 5, 'Once upon a time...')"
   ]
  },
  {
   "cell_type": "code",
   "execution_count": 389,
   "metadata": {
    "ExecuteTime": {
     "end_time": "2019-10-21T12:19:26.388550Z",
     "start_time": "2019-10-21T12:19:26.383406Z"
    }
   },
   "outputs": [
    {
     "data": {
      "text/plain": [
       "69293070"
      ]
     },
     "execution_count": 389,
     "metadata": {},
     "output_type": "execute_result"
    }
   ],
   "source": [
    "book.square_area_mm"
   ]
  },
  {
   "cell_type": "markdown",
   "metadata": {},
   "source": [
    "### Задача 1 [Размер объектов] (0 - 0.15 балла)  \n",
    "\n",
    "**Условие:** \n",
    "\n",
    "Написать функцию получения реального объема занимаемой объектом памяти объектом. \n",
    "\n",
    "\n",
    "1) Для int, str, list, tuple, dict **(0.05 балла)**\n",
    "\n",
    "2) Для всех типов **(+0.1 балла)**\n",
    "\n",
    "\n",
    "**Комментарий:**\n",
    "\n",
    "На занятиях не раз говорилось, что `sys.getsizeof` умеет находить размер простых объектов, но если речь идет об объектах, вроде list, то функция вернет не совсем то, что может ожидать разработчик, потому что список хранит указатели на объекты. \n",
    "\n",
    "*Пример:*\n",
    "```\n",
    "sys.getsizeof([]) == 64\n",
    "sys.getsizeof(['aaaaaaa']) == 72\n",
    "```\n",
    "Но\n",
    "```\n",
    "sys.getsizeof('aaaaaaa') == 56\n",
    "```\n"
   ]
  },
  {
   "cell_type": "code",
   "execution_count": 235,
   "metadata": {
    "ExecuteTime": {
     "end_time": "2019-10-20T20:22:18.856186Z",
     "start_time": "2019-10-20T20:22:18.847619Z"
    }
   },
   "outputs": [],
   "source": [
    "# def old_get_real_size_of(obj):\n",
    "    \n",
    "#     obj_ids = set()\n",
    "#     size = sys.getsizeof(obj)\n",
    "    \n",
    "#     if type(obj) in (str, float, int):\n",
    "#         return size\n",
    "    \n",
    "#     if type(obj) in (list, tuple):\n",
    "        \n",
    "#         for item in obj: \n",
    "#             item_id = id(item)\n",
    "#             if item_id not in obj_ids:\n",
    "#                 obj_ids.add(item_id)\n",
    "#                 size += sys.getsizeof(item)\n",
    "#         return size\n",
    "    \n",
    "#     if type(obj) == (dict):\n",
    "        \n",
    "#         for k, v in obj.items():\n",
    "            \n",
    "#             key_id = id(k)\n",
    "#             v_id = id(v)\n",
    "#             for _ in [key_id, v_id]:\n",
    "#                 if _ not in obj_ids:\n",
    "#                     obj_ids.add(_)\n",
    "#                     size+= sys.getsizeof(_)\n",
    "#         return size\n",
    "\n",
    "def get_size_of(obj, obj_ids):\n",
    "    \n",
    "    \n",
    "    size = sys.getsizeof(obj)\n",
    "    if id(obj) in obj_ids:\n",
    "        return 0, obj_ids\n",
    "    obj_ids.add(id(obj))\n",
    "    \n",
    "    if type(obj) in (str, float, int):\n",
    "        return size, obj_ids\n",
    "    \n",
    "    if type(obj) in (list, tuple):\n",
    "        for item in obj: \n",
    "            res = get_size_of(item, obj_ids)\n",
    "            size += res[0]\n",
    "            obj_ids = res[1]\n",
    "        return size, obj_ids\n",
    "    \n",
    "    if type(obj) == (dict):\n",
    "        for k, v in obj.items():\n",
    "            for _ in [k,v]:\n",
    "                res = get_size_of(_, obj_ids)\n",
    "                size += res[0]\n",
    "                obj_ids = res[1]\n",
    "        return size, obj_ids\n",
    "\n",
    "def get_real_size_of(obj):\n",
    "    \n",
    "    obj_ids = set()\n",
    "    \n",
    "    return get_size_of(obj, obj_ids)[0]"
   ]
  },
  {
   "cell_type": "code",
   "execution_count": 236,
   "metadata": {
    "ExecuteTime": {
     "end_time": "2019-10-20T20:22:19.328266Z",
     "start_time": "2019-10-20T20:22:19.324167Z"
    }
   },
   "outputs": [],
   "source": [
    "assert get_real_size_of('aa') + get_real_size_of([]) + 8 == get_real_size_of(['aa'])"
   ]
  },
  {
   "cell_type": "markdown",
   "metadata": {},
   "source": [
    "### Задача 2 [Многочлены] (0.64 балла)\n",
    "\n",
    "**Условие:**\n",
    "\n",
    "Реализовать класс многочлена. Определить операции:\n",
    "\n",
    "1) *сложения* - **(0.02 балла)**\n",
    "\n",
    "2) *вычитания* - **(0.02 балла)** \n",
    "\n",
    "3) *умножения* - **(0.04 балла)**\n",
    "\n",
    "3a) *быстрого умножения* (алгоритм Карацубы или быстрое преобразование Фурье) - **(+0.25 балла)**\n",
    "\n",
    "4) *деления* - **(0.05 балла)** \n",
    "\n",
    "5) *возведения в степень* - **(0.02 балла)** \n",
    "\n",
    "6) *представления многочлена в человеческом виде* - **(0.02 балла)**\n",
    "\n",
    "7) *дифференцирования* - **(0.05 балла)**\n",
    "\n",
    "8) *интегрирования* - **(0.05 балла)**\n",
    "\n",
    "9) Вызова многочлена как функции (вычисление значения в точке) - **(0.03 балла)**\n",
    "\n",
    "\n",
    "Операции с числами также должны работать."
   ]
  },
  {
   "cell_type": "code",
   "execution_count": 97,
   "metadata": {
    "ExecuteTime": {
     "end_time": "2019-10-20T18:59:14.247641Z",
     "start_time": "2019-10-20T18:59:14.242739Z"
    }
   },
   "outputs": [
    {
     "data": {
      "text/plain": [
       "0.29999999999999993"
      ]
     },
     "execution_count": 97,
     "metadata": {},
     "output_type": "execute_result"
    }
   ],
   "source": [
    "0.02+0.02+0.04+0.05+0.02+0.02+0.05+0.05+0.03"
   ]
  },
  {
   "cell_type": "code",
   "execution_count": 1,
   "metadata": {
    "ExecuteTime": {
     "end_time": "2019-10-17T13:32:08.277928Z",
     "start_time": "2019-10-17T13:32:08.273715Z"
    }
   },
   "outputs": [],
   "source": [
    "#https://stackoverflow.com/questions/5125619/why-doesnt-list-have-safe-get-method-like-dictionary\n",
    "\n",
    "class safelist(list):\n",
    "    def get(self, index, default=None):\n",
    "        try:\n",
    "            return self.__getitem__(index)\n",
    "        except IndexError:\n",
    "            return default"
   ]
  },
  {
   "cell_type": "code",
   "execution_count": 419,
   "metadata": {
    "ExecuteTime": {
     "end_time": "2019-10-20T18:29:48.803843Z",
     "start_time": "2019-10-20T18:29:48.688131Z"
    }
   },
   "outputs": [],
   "source": [
    "class Polynomial:\n",
    "    def __init__(self, *coefs):\n",
    "        \"\"\"\n",
    "        Coefs starting from a0 + a1 * x + a2 * x^2 .... \n",
    "        \"\"\"\n",
    "        self.last_non_zero_coef = self.find_last_non_zero_coef(coefs)\n",
    "        self.coefs = safelist([float(coef) for coef in coefs[:max(self.last_non_zero_coef+1, 1)]])\n",
    "        self.length = len(self.coefs)\n",
    "    \n",
    "    @staticmethod\n",
    "    def find_last_non_zero_coef(ls):\n",
    "        for i in range(len(ls)-1, -1, -1):\n",
    "            if ls[i] != 0:\n",
    "                return i \n",
    "        return -1 \n",
    "    \n",
    "    def linear_operations(self, other, method):\n",
    "        if type(other) in (int, float):\n",
    "            other = Polynomial(other)\n",
    "            \n",
    "        resulting_coefs = []\n",
    "        max_len = max(len(self.coefs), len(other.coefs))\n",
    "        for i in range(max_len):\n",
    "            result = method(self.coefs.get(i, 0.0), other.coefs.get(i, 0.0))\n",
    "            resulting_coefs.append(result)\n",
    "        return resulting_coefs\n",
    "    \n",
    "    def __add__(self, other):  \n",
    "        return Polynomial(*self.linear_operations(other, float.__add__))\n",
    "        \n",
    "    def __sub__(self, other):\n",
    "        return Polynomial(*self.linear_operations(other, float.__sub__))\n",
    "        \n",
    "    def __mul__(self, other):\n",
    "        if type(other) in (int, float):\n",
    "            other = Polynomial(other)\n",
    "\n",
    "        resulting_coefs = [0] * (self.length + other.length)        \n",
    "        if (self.last_non_zero_coef != -1) and (other.last_non_zero_coef != -1):\n",
    "            for i in range(self.length):\n",
    "                for j in range(other.length):\n",
    "                    resulting_coefs[i+j] += self.coefs[i] * other.coefs[j]\n",
    "                \n",
    "        return Polynomial(*resulting_coefs)\n",
    "    \n",
    "    def __pow__(self, power):\n",
    "        if power == 1:\n",
    "            return self \n",
    "        if power == 0: \n",
    "            return Polynomial(0)\n",
    "        \n",
    "        temp_polynomial = self\n",
    "        for i in range(2, power+1): \n",
    "            temp_polynomial *= self\n",
    "            \n",
    "        return temp_polynomial\n",
    "    \n",
    "    def __call__(self, point):\n",
    "        if type(point) not in [int, float]:\n",
    "            raise TypeError('Input should be float or int')\n",
    "        \n",
    "        return sum([coef * (point ** i) for i, coef in enumerate(self.coefs)])\n",
    "\n",
    "    def derivative(self, order = 1):\n",
    "        if order == 0:\n",
    "            return self\n",
    "        if self.length == 1: \n",
    "            return Polynomial(0)\n",
    "        \n",
    "        resulting_coefs = [0] * (self.length - 1)\n",
    "        for i in range(1,self.length): \n",
    "            resulting_coefs[i-1] = self.coefs[i] * i\n",
    "            \n",
    "        return Polynomial(*resulting_coefs).derivative(order -1)\n",
    "    \n",
    "    def integral(self):\n",
    "        \n",
    "        resulting_coefs = [0] * (self.length + 1)\n",
    "        \n",
    "        for i in range(0, self.length):\n",
    "            resulting_coefs[i+1] = self.coefs[i] / (i + 1)\n",
    "        \n",
    "        return Polynomial(*resulting_coefs)\n",
    "    \n",
    "    def __truediv__(self, other): \n",
    "        if type(other) in (float, int):\n",
    "            other = Polynomial(other)\n",
    "            \n",
    "        temp_poly = self\n",
    "        result_poly, remainder_poly  = Polynomial(0), Polynomial(0)\n",
    "        \n",
    "        num_largest_coef = len(temp_poly.coefs)\n",
    "        denom_largest_coef = len(other.coefs)\n",
    "        \n",
    "        if num_largest_coef == denom_largest_coef == 1:\n",
    "            return (Polynomial(temp_poly.coefs[0] / other.coefs[0]), remainder_poly)\n",
    "        \n",
    "        while num_largest_coef >= denom_largest_coef:\n",
    "            \n",
    "            temp_resulting_coefs = [0] * (num_largest_coef - denom_largest_coef + 1) \n",
    "            temp_resulting_coefs[-1] = temp_poly.coefs[-1] / other.coefs[-1]\n",
    "            \n",
    "            div_poly = Polynomial(*temp_resulting_coefs)\n",
    "            temp_poly = temp_poly - (div_poly * other)\n",
    "            result_poly = result_poly + div_poly\n",
    "            \n",
    "            num_largest_coef = len(temp_poly.coefs)\n",
    "            denom_largest_coef = len(other.coefs)\n",
    "            \n",
    "        remainder_poly = self - (result_poly * other)\n",
    "        \n",
    "        return result_poly, remainder_poly\n",
    "        \n",
    "    def __str__(self):\n",
    "        \n",
    "        result_string = \"\"\n",
    "        for i in range(len(self.coefs)):\n",
    "            \n",
    "            leading_spaces = 1 if i > 0 else 0 \n",
    "            \n",
    "            if self.coefs[i] >= 0:\n",
    "                prefix = ' '  * leading_spaces + '+ '* leading_spaces\n",
    "            else:\n",
    "                prefix = ' ' * leading_spaces  + '- '\n",
    "                \n",
    "            result_string += f\"{prefix}{abs(self.coefs[i])}*x^{i}\"\n",
    "            \n",
    "        return result_string"
   ]
  },
  {
   "cell_type": "code",
   "execution_count": 430,
   "metadata": {
    "ExecuteTime": {
     "end_time": "2019-10-20T18:37:09.811613Z",
     "start_time": "2019-10-20T18:37:09.805662Z"
    }
   },
   "outputs": [],
   "source": [
    "poly1  = Polynomial(1,1)\n",
    "poly2 = Polynomial(5,9, 99)\n",
    "\n",
    "# Check if add and subtr return the same results\n",
    "poly_sum = poly1 + poly2\n",
    "assert (poly2).coefs == (poly_sum - poly1).coefs\n",
    "\n",
    "# Check if integral returns same after derivativee\n",
    "assert poly1.coefs == poly1.integral().derivative().coefs\n",
    "\n",
    "# Check if division is correct\n",
    "div, rem =  poly1 / poly2\n",
    "assert poly1.coefs ==  (poly2 * div + rem).coefs\n",
    "\n",
    "# check value at point\n",
    "assert poly1(0) == poly1.coefs[0]"
   ]
  },
  {
   "cell_type": "markdown",
   "metadata": {},
   "source": [
    "### Задача 3 [Аналог range] (0.05 балла)\n",
    "\n",
    "**Условие:**\n",
    "\n",
    "Реализуйте итератор с поведением, аналогичным range."
   ]
  },
  {
   "cell_type": "code",
   "execution_count": 4,
   "metadata": {
    "ExecuteTime": {
     "end_time": "2019-10-20T18:54:30.477052Z",
     "start_time": "2019-10-20T18:54:30.468206Z"
    }
   },
   "outputs": [],
   "source": [
    "class custom_range_iter:\n",
    "    def __init__(self, *args):\n",
    "        \n",
    "        if len(args) == 1:\n",
    "            self.start, self.stop, self.step = 0, args[0], 1\n",
    "        elif len(args) == 2: \n",
    "            self.start, self.stop, self.step = *args, 1\n",
    "        else:\n",
    "            self.start, self.stop, self.step = args\n",
    "        \n",
    "        if self.step != 0:\n",
    "            self.current = self.start - self.step\n",
    "        else:\n",
    "            raise ValueError('step should not be zero')\n",
    "            \n",
    "    def __iter__(self):\n",
    "        return self\n",
    "    \n",
    "    def __next__(self): \n",
    "    \n",
    "        self.next = self.current + self.step\n",
    "        if ((self.step > 0 and (self.next < self.stop) and (self.next >= self.start))\n",
    "           or (self.step <0 and (self.next > self.stop) and (self.next <= self.start))):\n",
    "            self.current = self.next\n",
    "            return self.next\n",
    "        else:\n",
    "            raise StopIteration\n",
    "            "
   ]
  },
  {
   "cell_type": "code",
   "execution_count": 94,
   "metadata": {
    "ExecuteTime": {
     "end_time": "2019-10-20T18:56:58.767897Z",
     "start_time": "2019-10-20T18:56:50.471997Z"
    }
   },
   "outputs": [],
   "source": [
    "from random import randint\n",
    "\n",
    "N_ATTEMPTS = 1e6\n",
    "\n",
    "def get_points():\n",
    "    start, stop, step = randint(-100, 100), randint(-100, 100), randint(-100, 100) // randint(1,5)\n",
    "    \n",
    "    if step == 0:\n",
    "        \n",
    "        return get_points()\n",
    "    return start, stop, step \n",
    "\n",
    "for _ in range(int(N_ATTEMPTS)):\n",
    "    start, stop, step = get_points()\n",
    "    assert list(custom_range_iter(start, stop, step)) == list(range(start, stop, step))"
   ]
  },
  {
   "cell_type": "markdown",
   "metadata": {},
   "source": [
    "### Задача 4 [Primary Key] (0.05 балла)\n",
    "\n",
    "**Условие:**\n",
    "\n",
    "С помощью механизма дескрипторов реализуйте Primary Key - свойства первичного ключа из PostgreSQL."
   ]
  },
  {
   "cell_type": "markdown",
   "metadata": {},
   "source": [
    "### Задача 5 [PositiveSmallIntegerField] (0.03 балла)\n",
    "\n",
    "**Условие:**\n",
    "\n",
    "С помощью механизма дескрипторов реализуйте тип данных PositiveSmallIntegerField - поле, принимающее значения от 0 до 32767."
   ]
  },
  {
   "cell_type": "code",
   "execution_count": 443,
   "metadata": {
    "ExecuteTime": {
     "end_time": "2019-10-21T12:50:08.740750Z",
     "start_time": "2019-10-21T12:50:08.734402Z"
    }
   },
   "outputs": [],
   "source": [
    "class PositiveSmallIntegerField:\n",
    "    def __init__(self, name):\n",
    "        self.name = name\n",
    "        \n",
    "    def __get__(self, instance, owner):\n",
    "        return instance.__dict__[self.name]\n",
    "    \n",
    "    def __set__(self, instance, value):\n",
    "        if (isinstance(value, int)) and (0 <= value <= 32767):\n",
    "            instance.__dict__[self.name] = value\n",
    "        else:\n",
    "            raise ValueError('The number should be integer and be in range [0, 32767]')\n",
    "            \n",
    "    def __delete__(self, instance):\n",
    "        instance.__dict__[self.name] = None\n",
    "            \n",
    "class UsingPositiveIntegers:\n",
    "\n",
    "    number = PositiveSmallIntegerField('number')\n",
    "    \n",
    "    def __init__(self, number):\n",
    "        self.number = number"
   ]
  },
  {
   "cell_type": "code",
   "execution_count": 444,
   "metadata": {
    "ExecuteTime": {
     "end_time": "2019-10-21T12:50:08.928145Z",
     "start_time": "2019-10-21T12:50:08.925028Z"
    }
   },
   "outputs": [],
   "source": [
    "x =UsingPositiveIntegers(10)"
   ]
  },
  {
   "cell_type": "code",
   "execution_count": 445,
   "metadata": {
    "ExecuteTime": {
     "end_time": "2019-10-21T12:50:10.456659Z",
     "start_time": "2019-10-21T12:50:10.451263Z"
    }
   },
   "outputs": [],
   "source": [
    "values = [-1, 5, 999999, 1.5]\n",
    "for value in values:\n",
    "    try:\n",
    "        test_num = UsingPositiveIntegers(value)\n",
    "    except Exception as e:\n",
    "        assert str(e) == 'The number should be integer and be in range [0, 32767]'"
   ]
  },
  {
   "cell_type": "markdown",
   "metadata": {},
   "source": [
    "### Задача 6 [Timer] (0.02 балла)\n",
    "\n",
    "**Условие:**\n",
    "\n",
    "Реализовать контекстный менеджер, который выводит время, проведенное в нём."
   ]
  },
  {
   "cell_type": "code",
   "execution_count": 95,
   "metadata": {
    "ExecuteTime": {
     "end_time": "2019-10-20T18:57:15.463229Z",
     "start_time": "2019-10-20T18:57:15.458427Z"
    }
   },
   "outputs": [],
   "source": [
    "import time\n",
    "\n",
    "class TimeContextManager:\n",
    "    def __init__(self):\n",
    "        self.time_entered = None\n",
    "    def __enter__(self):\n",
    "        self.time_entered = time.time()\n",
    "    def __exit__(self, type, value, traceback):\n",
    "        print(f'Spent  {round(time.time() - self.time_entered, 10)} seconds in the context manager')"
   ]
  },
  {
   "cell_type": "code",
   "execution_count": 96,
   "metadata": {
    "ExecuteTime": {
     "end_time": "2019-10-20T18:57:20.973358Z",
     "start_time": "2019-10-20T18:57:15.963268Z"
    }
   },
   "outputs": [
    {
     "name": "stdout",
     "output_type": "stream",
     "text": [
      "Spent  5.0050239563 seconds in the context manager\n"
     ]
    }
   ],
   "source": [
    "with TimeContextManager():\n",
    "    time.sleep(5)"
   ]
  }
 ],
 "metadata": {
  "kernelspec": {
   "display_name": "Python 3",
   "language": "python",
   "name": "python3"
  },
  "language_info": {
   "codemirror_mode": {
    "name": "ipython",
    "version": 3
   },
   "file_extension": ".py",
   "mimetype": "text/x-python",
   "name": "python",
   "nbconvert_exporter": "python",
   "pygments_lexer": "ipython3",
   "version": "3.7.1"
  },
  "toc": {
   "base_numbering": 1,
   "nav_menu": {},
   "number_sections": true,
   "sideBar": true,
   "skip_h1_title": false,
   "title_cell": "Table of Contents",
   "title_sidebar": "Contents",
   "toc_cell": false,
   "toc_position": {},
   "toc_section_display": true,
   "toc_window_display": false
  }
 },
 "nbformat": 4,
 "nbformat_minor": 2
}
